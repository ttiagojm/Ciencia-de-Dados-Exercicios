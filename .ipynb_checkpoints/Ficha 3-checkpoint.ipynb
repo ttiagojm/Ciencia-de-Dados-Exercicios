{
 "cells": [
  {
   "cell_type": "code",
   "execution_count": 16,
   "id": "e7ff6228-7e93-4e32-95c1-33d491d4423e",
   "metadata": {},
   "outputs": [],
   "source": [
    "import pandas as pd\n",
    "import numpy as np\n",
    "import requests\n",
    "from bs4 import BeautifulSoup\n",
    "import re"
   ]
  },
  {
   "cell_type": "markdown",
   "id": "a114fdbb-53e9-4852-ae2a-85de507c2eba",
   "metadata": {},
   "source": [
    "## Expressões Regulares\n",
    "1 - Escreva código Python para remover os zeros de um endereço IP."
   ]
  },
  {
   "cell_type": "code",
   "execution_count": 17,
   "id": "24f78b83-09ae-4152-8724-0df65342acf3",
   "metadata": {},
   "outputs": [
    {
     "data": {
      "text/plain": [
       "'192.76.1'"
      ]
     },
     "execution_count": 17,
     "metadata": {},
     "output_type": "execute_result"
    }
   ],
   "source": [
    "\n",
    "ip = \"192.0.76.0.0.1\"\n",
    "\n",
    "# Ou começa por .0 ou acaba por 0.\n",
    "sem_zeros = re.sub(r\".0|0.\", r\"\", ip)\n",
    "sem_zeros"
   ]
  },
  {
   "cell_type": "markdown",
   "id": "8896aff5-8647-4d23-98d8-d31f22377aaf",
   "metadata": {},
   "source": [
    "2 - Escreva e teste uma função Python que retorne ‘True’ se uma string contiver apenas caracteres \r\n",
    "alfanuméricos (a-z, A-Z e 0-9) e ‘False’ caso contrário.\r\n",
    "Nota: a expressão “\\w” pode reconhecer caracteres diferentes destes como sendo \r\n",
    "alfanuméricos. "
   ]
  },
  {
   "cell_type": "code",
   "execution_count": 18,
   "id": "5e8e1ef6-356f-47e1-8f1d-99df5d097b6b",
   "metadata": {},
   "outputs": [
    {
     "name": "stdout",
     "output_type": "stream",
     "text": [
      "\"olapessoa2\" é alfanumérico?  True\n",
      "\"ola_pessoa\" é alfanumérico?  False\n"
     ]
    }
   ],
   "source": [
    "def apenas_alpha_num(text):\n",
    "    # Se contiver qualquer coisa não alfanumérica, então len > 0 logo não é alfanumérica\n",
    "    return len(re.findall(r\"[^a-zA-Z0-9]\", text)) == 0\n",
    "\n",
    "text1 = \"olapessoa2\"\n",
    "text2 = \"ola_pessoa\"\n",
    "\n",
    "print(f\"\\\"{text1}\\\" é alfanumérico? \", apenas_alpha_num(text1))\n",
    "print(f\"\\\"{text2}\\\" é alfanumérico? \", apenas_alpha_num(text2))\n"
   ]
  },
  {
   "cell_type": "markdown",
   "id": "d3b3542d-1698-4985-a50a-34d862cc389d",
   "metadata": {},
   "source": [
    "3 - Escreva e teste uma função Python que verifique se uma string consiste num ‘a’ seguido por \r\n",
    "zero ou mais ‘b’. A saída da função deve ser True/False, caso consista ou não, e a contagem \r\n",
    "dos 'b' encontrados. Se o match não ocorrer, a contagem dos 'b' deve ser zero."
   ]
  },
  {
   "cell_type": "code",
   "execution_count": 19,
   "id": "51fb4982-8768-4a76-9247-b3cb9ee596cc",
   "metadata": {},
   "outputs": [
    {
     "data": {
      "text/plain": [
       "(True, 3)"
      ]
     },
     "execution_count": 19,
     "metadata": {},
     "output_type": "execute_result"
    }
   ],
   "source": [
    "def abbb(text):\n",
    "    match = re.match(r\"[a](b*)$\", text)\n",
    "    return (True, len(match.groups()[0])) if match else (False, 0)\n",
    "\n",
    "abbb(\"abbb\")"
   ]
  },
  {
   "cell_type": "markdown",
   "id": "f5f38722-603a-4171-ae6f-b0274a397fe7",
   "metadata": {},
   "source": [
    "4 - Escreva e teste uma função que verifique se um texto não tem nenhuma das letras ’k,y,w’, \r\n",
    "maiúsculas ou minúsculas. Deve ignorar os casos ‘ky’ e ‘wy’. Possíveis resultados da função:\\\n",
    " \r\n",
    "• Existem as letras \"k,w,y\", ignorando \"wy\" e \"ky\"\\\n",
    ". \r\n",
    "• Não existem as letras \"k,w,y\", ignorando \"wy\" e \"ky\". \". "
   ]
  },
  {
   "cell_type": "code",
   "execution_count": 20,
   "id": "c4c5a43a-e128-4530-b3f5-d9269dc3cdd7",
   "metadata": {},
   "outputs": [
    {
     "name": "stdout",
     "output_type": "stream",
     "text": [
      "Existem as letras \"k,w,y\", ignorando \"wy\" e \"ky\"\n"
     ]
    }
   ],
   "source": [
    "def existe_kyw(text):\n",
    "\n",
    "    # Contém os caracteres k,y,w\n",
    "    l1 = len(re.findall(r\"([kywKYW])\", text))\n",
    "    # Contém as substrings ky e wy\n",
    "    l2 = len(re.findall(r\"(ky|wy)\", text))\n",
    "\n",
    "    # l2 conta as occorrências de ky ou wy, logo a cada ocorrência há 2 letras que estarão contadas em l1\n",
    "    # por isso multiplica-se por 2 para saber o número exato de letras a retirar da contagem l1\n",
    "    if l1-(l2*2) > 0:\n",
    "        print(\"Existem as letras \\\"k,w,y\\\", ignorando \\\"wy\\\" e \\\"ky\\\"\")\n",
    "    else:\n",
    "        print(\"Não existem as letras \\\"k,w,y\\\", ignorando \\\"wy\\\" e \\\"ky\\\"\")\n",
    "\n",
    "existe_kyw(\"kyasgadgkdwyas\")"
   ]
  },
  {
   "cell_type": "markdown",
   "id": "556f8202-5bbd-4179-a2da-ce3926e6cea9",
   "metadata": {},
   "source": [
    "5 - Escreva uma função que receba uma string e um número. A função deve devolver todas as \r\n",
    "palavras que contenham pelo menos uma vez esse número. "
   ]
  },
  {
   "cell_type": "code",
   "execution_count": 21,
   "id": "5c3dcfae-bcc9-4c47-b9fd-78d9e521f0fb",
   "metadata": {},
   "outputs": [
    {
     "data": {
      "text/plain": [
       "['tudo2', 'yea2h2']"
      ]
     },
     "execution_count": 21,
     "metadata": {},
     "output_type": "execute_result"
    }
   ],
   "source": [
    "def contem_num(text, num):\n",
    "    #\\b encontra o espaço entre um caracter alfanumérico e um não caracter alfanumérico \n",
    "    regex = r\"\\b[a-z|A-Z|0-9]*{num}[a-z|A-Z|0-9]*\\b\"\n",
    "    regex = re.sub(r\"{num}\", str(num), regex)\n",
    "    return re.findall(regex, text)\n",
    "\n",
    "contem_num(\"ol2a_ tudo2 bom3 yea2h2\", 2)"
   ]
  },
  {
   "cell_type": "markdown",
   "id": "05ed4de2-f936-4f63-bddd-fbec500d3e26",
   "metadata": {},
   "source": [
    "6 - Escreva um programa Python para converter um string em que as palavras estão coladas, sem \r\n",
    "espaços em branco e começadas por letra maiúscul, exceto a primeira palavra,a (camel case) numa string em que as \r\n",
    "palavras estejam separadas por underscore (snake case). "
   ]
  },
  {
   "cell_type": "code",
   "execution_count": 22,
   "id": "62fe4328-5e0b-4a0c-af3f-6bc9a2cdd915",
   "metadata": {},
   "outputs": [
    {
     "data": {
      "text/plain": [
       "'agora_isto_vai'"
      ]
     },
     "execution_count": 22,
     "metadata": {},
     "output_type": "execute_result"
    }
   ],
   "source": [
    "def camel_2_snake(text):\n",
    "    palavras = re.findall(r\"^[a-z][a-z]*|[A-Z][a-z|0-9]*\", text)\n",
    "    return \"_\".join(palavras).lower()\n",
    "\n",
    "camel_2_snake(\"agoraIstoVai\")"
   ]
  },
  {
   "cell_type": "markdown",
   "id": "1312bd95-4efb-4f85-83b4-5734bd58ec17",
   "metadata": {},
   "source": [
    "## DataFrames\n",
    "\n",
    "1. Construa um DataFrame, recorrendo à biblioteca Pandas, com os seguintes atributos: \r\n",
    "{'X':[78,85,96,80,86], 'Y':[84,94,89,83,86],'Z':[86,97,96,72,83]} \r\n",
    "Saída: \r\n",
    " X Y Z \r\n",
    "0 78 84 86 \r\n",
    "1 85 94 97 \r\n",
    "2 96 89 96 \r\n",
    "3 80 83 72 \r\n",
    "4 86 86 83"
   ]
  },
  {
   "cell_type": "code",
   "execution_count": 23,
   "id": "dc61ca48-2b56-48f9-91ed-999298e64e5d",
   "metadata": {},
   "outputs": [
    {
     "data": {
      "text/html": [
       "<div>\n",
       "<style scoped>\n",
       "    .dataframe tbody tr th:only-of-type {\n",
       "        vertical-align: middle;\n",
       "    }\n",
       "\n",
       "    .dataframe tbody tr th {\n",
       "        vertical-align: top;\n",
       "    }\n",
       "\n",
       "    .dataframe thead th {\n",
       "        text-align: right;\n",
       "    }\n",
       "</style>\n",
       "<table border=\"1\" class=\"dataframe\">\n",
       "  <thead>\n",
       "    <tr style=\"text-align: right;\">\n",
       "      <th></th>\n",
       "      <th>X</th>\n",
       "      <th>Y</th>\n",
       "      <th>Z</th>\n",
       "    </tr>\n",
       "  </thead>\n",
       "  <tbody>\n",
       "    <tr>\n",
       "      <th>0</th>\n",
       "      <td>78</td>\n",
       "      <td>84</td>\n",
       "      <td>86</td>\n",
       "    </tr>\n",
       "    <tr>\n",
       "      <th>1</th>\n",
       "      <td>85</td>\n",
       "      <td>94</td>\n",
       "      <td>97</td>\n",
       "    </tr>\n",
       "    <tr>\n",
       "      <th>2</th>\n",
       "      <td>96</td>\n",
       "      <td>89</td>\n",
       "      <td>96</td>\n",
       "    </tr>\n",
       "    <tr>\n",
       "      <th>3</th>\n",
       "      <td>80</td>\n",
       "      <td>83</td>\n",
       "      <td>72</td>\n",
       "    </tr>\n",
       "    <tr>\n",
       "      <th>4</th>\n",
       "      <td>86</td>\n",
       "      <td>86</td>\n",
       "      <td>83</td>\n",
       "    </tr>\n",
       "  </tbody>\n",
       "</table>\n",
       "</div>"
      ],
      "text/plain": [
       "    X   Y   Z\n",
       "0  78  84  86\n",
       "1  85  94  97\n",
       "2  96  89  96\n",
       "3  80  83  72\n",
       "4  86  86  83"
      ]
     },
     "execution_count": 23,
     "metadata": {},
     "output_type": "execute_result"
    }
   ],
   "source": [
    "df = pd.DataFrame({\"X\": [78,85,96,80,86], \"Y\": [84,94,89,83,86], \"Z\": [86,97,96,72,83]})\n",
    "df"
   ]
  },
  {
   "cell_type": "markdown",
   "id": "9ec823b7-11bd-46fd-bd21-a3ce6f1d42f8",
   "metadata": {},
   "source": [
    "2. Escreva um programa para obter as primeiras 3 linhas de um DataFrame. \r\n",
    "Dados para o DataFrame: \r\n",
    "exam_data = { \r\n",
    "'name': ['Anastasia', 'Dima', 'Katherine', 'James', 'Emily', 'Michael', 'Matthew', 'Laura', 'Kevin', \r\n",
    "'Jonas'], \r\n",
    "'score': [12.5, 9, 16.5, np.nan, 9, 20, 14.5, np.nan, 8, 19], \r\n",
    "'attempts': [1, 3, 2, 3, 2, 3, 1, 1, 2, 1], \r\n",
    "'qualify': ['yes', 'no', 'yes', 'no', 'no', 'yes', 'yes', 'no', 'no', 'yes']} \r\n",
    "labels = ['a', 'b', 'c', 'd', 'e', 'f', 'g', 'h', 'i', 'j'] "
   ]
  },
  {
   "cell_type": "code",
   "execution_count": 24,
   "id": "ab86f7d1-578f-4a77-8c95-1f684acc0c9e",
   "metadata": {},
   "outputs": [
    {
     "data": {
      "text/html": [
       "<div>\n",
       "<style scoped>\n",
       "    .dataframe tbody tr th:only-of-type {\n",
       "        vertical-align: middle;\n",
       "    }\n",
       "\n",
       "    .dataframe tbody tr th {\n",
       "        vertical-align: top;\n",
       "    }\n",
       "\n",
       "    .dataframe thead th {\n",
       "        text-align: right;\n",
       "    }\n",
       "</style>\n",
       "<table border=\"1\" class=\"dataframe\">\n",
       "  <thead>\n",
       "    <tr style=\"text-align: right;\">\n",
       "      <th></th>\n",
       "      <th>name</th>\n",
       "      <th>score</th>\n",
       "      <th>attempts</th>\n",
       "      <th>qualify</th>\n",
       "    </tr>\n",
       "  </thead>\n",
       "  <tbody>\n",
       "    <tr>\n",
       "      <th>a</th>\n",
       "      <td>Anastasia</td>\n",
       "      <td>12.5</td>\n",
       "      <td>1</td>\n",
       "      <td>yes</td>\n",
       "    </tr>\n",
       "    <tr>\n",
       "      <th>b</th>\n",
       "      <td>Dima</td>\n",
       "      <td>9.0</td>\n",
       "      <td>3</td>\n",
       "      <td>no</td>\n",
       "    </tr>\n",
       "    <tr>\n",
       "      <th>c</th>\n",
       "      <td>Katherine</td>\n",
       "      <td>16.5</td>\n",
       "      <td>2</td>\n",
       "      <td>yes</td>\n",
       "    </tr>\n",
       "  </tbody>\n",
       "</table>\n",
       "</div>"
      ],
      "text/plain": [
       "        name  score  attempts qualify\n",
       "a  Anastasia   12.5         1     yes\n",
       "b       Dima    9.0         3      no\n",
       "c  Katherine   16.5         2     yes"
      ]
     },
     "execution_count": 24,
     "metadata": {},
     "output_type": "execute_result"
    }
   ],
   "source": [
    "df = pd.DataFrame(\n",
    "    { \n",
    "        'name': ['Anastasia', 'Dima', 'Katherine', 'James', 'Emily', 'Michael', 'Matthew', 'Laura', 'Kevin', 'Jonas'], \n",
    "        'score': [12.5, 9, 16.5, np.nan, 9, 20, 14.5, np.nan, 8, 19], \n",
    "        'attempts': [1, 3, 2, 3, 2, 3, 1, 1, 2, 1], \n",
    "        'qualify': ['yes', 'no', 'yes', 'no', 'no', 'yes', 'yes', 'no', 'no', 'yes']\n",
    "    }, \n",
    "    index = ['a', 'b', 'c', 'd', 'e', 'f', 'g', 'h', 'i', 'j']\n",
    ")\n",
    "df.head(3)"
   ]
  },
  {
   "cell_type": "markdown",
   "id": "74e21577-e4bd-4f27-9612-c47f4ed1819b",
   "metadata": {},
   "source": [
    "3. Escreva um programa para mostrar as linhas onde o número de tentativas no exame é superior \r\n",
    "a 2. Utilize o DataFrame do exercício anterior"
   ]
  },
  {
   "cell_type": "code",
   "execution_count": 25,
   "id": "5d820d49-268d-493e-8314-e72208ce2e73",
   "metadata": {},
   "outputs": [
    {
     "data": {
      "text/html": [
       "<div>\n",
       "<style scoped>\n",
       "    .dataframe tbody tr th:only-of-type {\n",
       "        vertical-align: middle;\n",
       "    }\n",
       "\n",
       "    .dataframe tbody tr th {\n",
       "        vertical-align: top;\n",
       "    }\n",
       "\n",
       "    .dataframe thead th {\n",
       "        text-align: right;\n",
       "    }\n",
       "</style>\n",
       "<table border=\"1\" class=\"dataframe\">\n",
       "  <thead>\n",
       "    <tr style=\"text-align: right;\">\n",
       "      <th></th>\n",
       "      <th>name</th>\n",
       "      <th>score</th>\n",
       "      <th>attempts</th>\n",
       "      <th>qualify</th>\n",
       "    </tr>\n",
       "  </thead>\n",
       "  <tbody>\n",
       "    <tr>\n",
       "      <th>b</th>\n",
       "      <td>Dima</td>\n",
       "      <td>9.0</td>\n",
       "      <td>3</td>\n",
       "      <td>no</td>\n",
       "    </tr>\n",
       "    <tr>\n",
       "      <th>d</th>\n",
       "      <td>James</td>\n",
       "      <td>NaN</td>\n",
       "      <td>3</td>\n",
       "      <td>no</td>\n",
       "    </tr>\n",
       "    <tr>\n",
       "      <th>f</th>\n",
       "      <td>Michael</td>\n",
       "      <td>20.0</td>\n",
       "      <td>3</td>\n",
       "      <td>yes</td>\n",
       "    </tr>\n",
       "  </tbody>\n",
       "</table>\n",
       "</div>"
      ],
      "text/plain": [
       "      name  score  attempts qualify\n",
       "b     Dima    9.0         3      no\n",
       "d    James    NaN         3      no\n",
       "f  Michael   20.0         3     yes"
      ]
     },
     "execution_count": 25,
     "metadata": {},
     "output_type": "execute_result"
    }
   ],
   "source": [
    "df[df[\"attempts\"] > 2]"
   ]
  },
  {
   "cell_type": "markdown",
   "id": "bb1551f6-19b5-406c-a90b-e46124e72595",
   "metadata": {},
   "source": [
    "4. Escreva um programa que mostre as linhas em que a pontuação está entre 15 e 20 (inclusive). "
   ]
  },
  {
   "cell_type": "code",
   "execution_count": 26,
   "id": "fadb8b4e-fc61-45d9-820a-4a370a065199",
   "metadata": {},
   "outputs": [
    {
     "data": {
      "text/html": [
       "<div>\n",
       "<style scoped>\n",
       "    .dataframe tbody tr th:only-of-type {\n",
       "        vertical-align: middle;\n",
       "    }\n",
       "\n",
       "    .dataframe tbody tr th {\n",
       "        vertical-align: top;\n",
       "    }\n",
       "\n",
       "    .dataframe thead th {\n",
       "        text-align: right;\n",
       "    }\n",
       "</style>\n",
       "<table border=\"1\" class=\"dataframe\">\n",
       "  <thead>\n",
       "    <tr style=\"text-align: right;\">\n",
       "      <th></th>\n",
       "      <th>name</th>\n",
       "      <th>score</th>\n",
       "      <th>attempts</th>\n",
       "      <th>qualify</th>\n",
       "    </tr>\n",
       "  </thead>\n",
       "  <tbody>\n",
       "    <tr>\n",
       "      <th>c</th>\n",
       "      <td>Katherine</td>\n",
       "      <td>16.5</td>\n",
       "      <td>2</td>\n",
       "      <td>yes</td>\n",
       "    </tr>\n",
       "    <tr>\n",
       "      <th>f</th>\n",
       "      <td>Michael</td>\n",
       "      <td>20.0</td>\n",
       "      <td>3</td>\n",
       "      <td>yes</td>\n",
       "    </tr>\n",
       "    <tr>\n",
       "      <th>j</th>\n",
       "      <td>Jonas</td>\n",
       "      <td>19.0</td>\n",
       "      <td>1</td>\n",
       "      <td>yes</td>\n",
       "    </tr>\n",
       "  </tbody>\n",
       "</table>\n",
       "</div>"
      ],
      "text/plain": [
       "        name  score  attempts qualify\n",
       "c  Katherine   16.5         2     yes\n",
       "f    Michael   20.0         3     yes\n",
       "j      Jonas   19.0         1     yes"
      ]
     },
     "execution_count": 26,
     "metadata": {},
     "output_type": "execute_result"
    }
   ],
   "source": [
    "df[(df[\"score\"] > 15) & (df[\"score\"] <= 20)]"
   ]
  },
  {
   "cell_type": "markdown",
   "id": "d64ce509-2ee4-40b3-8550-12527adf5893",
   "metadata": {},
   "source": [
    "## Web Scraping\n",
    "\n",
    "Para obter os HTMLs necessários temos de ir às [listas](https://dges.gov.pt/coloc/2023/) de candidatos para cada fase, no IPCB, para a Lic. de Eng. Informática"
   ]
  },
  {
   "cell_type": "code",
   "execution_count": null,
   "id": "9b479e23-008a-43ac-8e14-e7c9124e8e78",
   "metadata": {},
   "outputs": [],
   "source": []
  },
  {
   "cell_type": "code",
   "execution_count": 27,
   "id": "a935243f-b353-48d0-b358-ae994d4dc340",
   "metadata": {},
   "outputs": [],
   "source": [
    "listas = list()\n",
    "for lc in [\"LC1.html\", \"LC2.html\", \"LC3.html\"]:\n",
    "    with open(lc, \"r\") as f:\n",
    "        listas.append(f.read())"
   ]
  },
  {
   "cell_type": "code",
   "execution_count": 28,
   "id": "035537f9-c353-4388-a3ba-c82da1c8d38a",
   "metadata": {},
   "outputs": [],
   "source": [
    "roots = [BeautifulSoup(listas[0]), BeautifulSoup(listas[1]), BeautifulSoup(listas[2])]"
   ]
  },
  {
   "cell_type": "code",
   "execution_count": 29,
   "id": "1aac124e-b3e9-4a44-847f-37df508255a0",
   "metadata": {},
   "outputs": [
    {
     "data": {
      "text/plain": [
       "['308(...)11',\n",
       " '158(...)54',\n",
       " '303(...)84',\n",
       " '152(...)35',\n",
       " '305(...)12',\n",
       " '310(...)81',\n",
       " '309(...)26',\n",
       " '155(...)68',\n",
       " '307(...)87',\n",
       " '303(...)91',\n",
       " '303(...)29',\n",
       " '300(...)39',\n",
       " '307(...)75',\n",
       " '301(...)66',\n",
       " '154(...)16',\n",
       " '152(...)73',\n",
       " '304(...)48',\n",
       " '307(...)16',\n",
       " '310(...)25',\n",
       " '149(...)01',\n",
       " '305(...)11',\n",
       " '157(...)76',\n",
       " '303(...)43',\n",
       " '230(...)06',\n",
       " '159(...)88',\n",
       " '300(...)30',\n",
       " '308(...)39',\n",
       " '157(...)44',\n",
       " '302(...)36',\n",
       " '300(...)87',\n",
       " '301(...)09',\n",
       " '314(...)10',\n",
       " '154(...)09',\n",
       " '158(...)05',\n",
       " '155(...)35',\n",
       " '154(...)90',\n",
       " '306(...)95',\n",
       " '151(...)98',\n",
       " '305(...)85',\n",
       " '316(...)70',\n",
       " '159(...)63',\n",
       " '307(...)71',\n",
       " '149(...)42',\n",
       " '230(...)01',\n",
       " '307(...)61',\n",
       " '309(...)68',\n",
       " '311(...)84',\n",
       " '311(...)95',\n",
       " '307(...)97',\n",
       " '303(...)90',\n",
       " '151(...)01',\n",
       " '157(...)02',\n",
       " '304(...)27',\n",
       " '303(...)38',\n",
       " '301(...)74',\n",
       " '307(...)45',\n",
       " '306(...)13',\n",
       " '149(...)97',\n",
       " '307(...)37',\n",
       " '154(...)68',\n",
       " '304(...)75']"
      ]
     },
     "execution_count": 29,
     "metadata": {},
     "output_type": "execute_result"
    }
   ],
   "source": [
    "# Obter os numeros e nomes da tabela\n",
    "numeros = list()\n",
    "nomes = list()\n",
    "\n",
    "# Regex para substituir caracteres brancos\n",
    "\n",
    "for i, root in enumerate(roots):\n",
    "    table = root.findAll(\"table\")[3]\n",
    "    td = table.findAll(\"td\")\n",
    "    for num, nome in zip(td[::2], td[1::2]):\n",
    "        numeros.append(re.sub(r\"\\s\", \"\", num.text))\n",
    "        nomes.append(re.sub(r\"[\\t\\r\\n]\", \"\", nome.text))\n",
    "\n",
    "numeros"
   ]
  },
  {
   "cell_type": "code",
   "execution_count": 30,
   "id": "ac35b424-ac87-4187-9a81-82198b2eb491",
   "metadata": {},
   "outputs": [],
   "source": [
    "# Criar 4 listas\n",
    "aluno_id = list()\n",
    "\n",
    "for i, num in enumerate(numeros):\n",
    "    aluno_id.append(int(re.sub(r\"\\(\\.\\.\\.\\)\", str(i), num)))\n",
    "\n",
    "primeiro_nome, ultimo_nome, nome_completo = list(), list(), list()\n",
    "for nome in nomes:\n",
    "    primeiro, ultimo = re.search(r\"\\w+\", nome)[0], re.search(r\"\\w+$\", nome)[0]\n",
    "    primeiro_nome.append(primeiro)\n",
    "    ultimo_nome.append(ultimo)\n",
    "    nome_completo.append(nome)"
   ]
  },
  {
   "cell_type": "code",
   "execution_count": 31,
   "id": "3d68110f-c490-48bd-bb82-5349aa578793",
   "metadata": {},
   "outputs": [
    {
     "data": {
      "text/html": [
       "<div>\n",
       "<style scoped>\n",
       "    .dataframe tbody tr th:only-of-type {\n",
       "        vertical-align: middle;\n",
       "    }\n",
       "\n",
       "    .dataframe tbody tr th {\n",
       "        vertical-align: top;\n",
       "    }\n",
       "\n",
       "    .dataframe thead th {\n",
       "        text-align: right;\n",
       "    }\n",
       "</style>\n",
       "<table border=\"1\" class=\"dataframe\">\n",
       "  <thead>\n",
       "    <tr style=\"text-align: right;\">\n",
       "      <th></th>\n",
       "      <th>aluno_id</th>\n",
       "      <th>primeiro_nome</th>\n",
       "      <th>ultimo_nome</th>\n",
       "      <th>nome_completo</th>\n",
       "    </tr>\n",
       "  </thead>\n",
       "  <tbody>\n",
       "    <tr>\n",
       "      <th>0</th>\n",
       "      <td>308011</td>\n",
       "      <td>BEATRIZ</td>\n",
       "      <td>COELHO</td>\n",
       "      <td>BEATRIZ ISABEL FERNANDES COELHO</td>\n",
       "    </tr>\n",
       "    <tr>\n",
       "      <th>1</th>\n",
       "      <td>158154</td>\n",
       "      <td>BEATRIZ</td>\n",
       "      <td>RODRIGUES</td>\n",
       "      <td>BEATRIZ MESTRE RODRIGUES</td>\n",
       "    </tr>\n",
       "    <tr>\n",
       "      <th>2</th>\n",
       "      <td>303284</td>\n",
       "      <td>DANIEL</td>\n",
       "      <td>SOUSA</td>\n",
       "      <td>DANIEL FERNANDES DE SOUSA</td>\n",
       "    </tr>\n",
       "    <tr>\n",
       "      <th>3</th>\n",
       "      <td>152335</td>\n",
       "      <td>DAVID</td>\n",
       "      <td>AFONSO</td>\n",
       "      <td>DAVID MIGUEL CARRONDO AFONSO</td>\n",
       "    </tr>\n",
       "    <tr>\n",
       "      <th>4</th>\n",
       "      <td>305412</td>\n",
       "      <td>DIOGO</td>\n",
       "      <td>SANTOS</td>\n",
       "      <td>DIOGO MALTA SANTOS</td>\n",
       "    </tr>\n",
       "    <tr>\n",
       "      <th>...</th>\n",
       "      <td>...</td>\n",
       "      <td>...</td>\n",
       "      <td>...</td>\n",
       "      <td>...</td>\n",
       "    </tr>\n",
       "    <tr>\n",
       "      <th>56</th>\n",
       "      <td>3065613</td>\n",
       "      <td>SIMÃO</td>\n",
       "      <td>MAJOR</td>\n",
       "      <td>SIMÃO PAULO SILVA MAJOR</td>\n",
       "    </tr>\n",
       "    <tr>\n",
       "      <th>57</th>\n",
       "      <td>1495797</td>\n",
       "      <td>TOMÁS</td>\n",
       "      <td>SANTOS</td>\n",
       "      <td>TOMÁS AURÉLIO ABELHO DOS SANTOS</td>\n",
       "    </tr>\n",
       "    <tr>\n",
       "      <th>58</th>\n",
       "      <td>3075837</td>\n",
       "      <td>AFONSO</td>\n",
       "      <td>COSTA</td>\n",
       "      <td>AFONSO NEVES COSTA</td>\n",
       "    </tr>\n",
       "    <tr>\n",
       "      <th>59</th>\n",
       "      <td>1545968</td>\n",
       "      <td>JOÃO</td>\n",
       "      <td>NUNES</td>\n",
       "      <td>JOÃO MIGUEL MARTINS NUNES</td>\n",
       "    </tr>\n",
       "    <tr>\n",
       "      <th>60</th>\n",
       "      <td>3046075</td>\n",
       "      <td>RENATO</td>\n",
       "      <td>GOMES</td>\n",
       "      <td>RENATO JOSÉ DE OLIVEIRA GOMES</td>\n",
       "    </tr>\n",
       "  </tbody>\n",
       "</table>\n",
       "<p>61 rows × 4 columns</p>\n",
       "</div>"
      ],
      "text/plain": [
       "    aluno_id primeiro_nome ultimo_nome                    nome_completo\n",
       "0     308011       BEATRIZ      COELHO  BEATRIZ ISABEL FERNANDES COELHO\n",
       "1     158154       BEATRIZ   RODRIGUES         BEATRIZ MESTRE RODRIGUES\n",
       "2     303284        DANIEL       SOUSA        DANIEL FERNANDES DE SOUSA\n",
       "3     152335         DAVID      AFONSO     DAVID MIGUEL CARRONDO AFONSO\n",
       "4     305412         DIOGO      SANTOS               DIOGO MALTA SANTOS\n",
       "..       ...           ...         ...                              ...\n",
       "56   3065613         SIMÃO       MAJOR          SIMÃO PAULO SILVA MAJOR\n",
       "57   1495797         TOMÁS      SANTOS  TOMÁS AURÉLIO ABELHO DOS SANTOS\n",
       "58   3075837        AFONSO       COSTA               AFONSO NEVES COSTA\n",
       "59   1545968          JOÃO       NUNES        JOÃO MIGUEL MARTINS NUNES\n",
       "60   3046075        RENATO       GOMES    RENATO JOSÉ DE OLIVEIRA GOMES\n",
       "\n",
       "[61 rows x 4 columns]"
      ]
     },
     "execution_count": 31,
     "metadata": {},
     "output_type": "execute_result"
    }
   ],
   "source": [
    "df = pd.DataFrame({\n",
    "    \"aluno_id\": aluno_id, \n",
    "    \"primeiro_nome\": primeiro_nome, \n",
    "    \"ultimo_nome\": ultimo_nome,\n",
    "    \"nome_completo\": nome_completo\n",
    "})\n",
    "df"
   ]
  },
  {
   "cell_type": "markdown",
   "id": "e53b6eee-d17e-466a-88fc-41bde10677d9",
   "metadata": {},
   "source": [
    "## Base de Dados\n",
    "\n",
    "Vou usar SQLite porque já é nativo do Python, enquanto que o SQL Server tem de se instalar e configurar um servidor de DB no nosso sistema.\n",
    "\n",
    "```sql\n",
    "CREATE TABLE aluno(\n",
    "    aluno_id INT NOT NULL, \n",
    "    primeiro_nome VARCHAR(100) NOT NULL,\n",
    "    ultimo_nome VARCHAR(100) NOT NULL, \n",
    "    nome_completo VARCHAR(100) NOT NULL, \n",
    "    PRIMARY KEY (aluno_id))\n",
    "```"
   ]
  },
  {
   "cell_type": "code",
   "execution_count": 32,
   "id": "a73d5cd0-aed9-42dc-af1b-ae740bb7b94a",
   "metadata": {},
   "outputs": [],
   "source": [
    "import sqlite3"
   ]
  },
  {
   "cell_type": "code",
   "execution_count": 33,
   "id": "abce589f-d302-4d70-baa8-d05b181bd8b4",
   "metadata": {},
   "outputs": [],
   "source": [
    "# Cria a base de dados num ficheiro\n",
    "conn = sqlite3.connect(\"aluno.db\")\n",
    "cur = conn.cursor()"
   ]
  },
  {
   "cell_type": "code",
   "execution_count": 34,
   "id": "5794c401-c681-4e37-a5dc-96795519a49f",
   "metadata": {},
   "outputs": [],
   "source": [
    "# Cria tabela pedida (primeiro tenta-se apagar, caso não exista cria-se)\n",
    "try:\n",
    "    cur.execute(\"DROP TABLE aluno\")\n",
    "except:\n",
    "    cur.execute(\n",
    "        \"\"\"CREATE TABLE aluno(aluno_id INT NOT NULL, primeiro_nome VARCHAR(100) NOT NULL,\n",
    "        ultimo_nome VARCHAR(100) NOT NULL, nome_completo VARCHAR(100) NOT NULL, \n",
    "        PRIMARY KEY (aluno_id))\"\"\")"
   ]
  },
  {
   "cell_type": "code",
   "execution_count": 35,
   "id": "f3ddde0b-f019-4d1e-a55d-d8d2edc4451d",
   "metadata": {},
   "outputs": [],
   "source": [
    "# Passar por todas as linhas do DataFrame e fazer insert na DB\n",
    "for _, row in df.iterrows():\n",
    "    cur.execute(\"INSERT INTO aluno VALUES(%d,'%s','%s','%s')\" % (row[\"aluno_id\"], \n",
    "                                                           row[\"primeiro_nome\"], \n",
    "                                                           row[\"ultimo_nome\"], \n",
    "                                                           row[\"nome_completo\"]))\n"
   ]
  },
  {
   "cell_type": "code",
   "execution_count": 36,
   "id": "5f147715-e3e9-4d9b-ab76-59dac4f2861c",
   "metadata": {},
   "outputs": [
    {
     "data": {
      "text/plain": [
       "(61,)"
      ]
     },
     "execution_count": 36,
     "metadata": {},
     "output_type": "execute_result"
    }
   ],
   "source": [
    "# Verificar os dados da tabela (vamos apenas contar para ver se estão todos)\n",
    "cur.execute(\"SELECT COUNT(*) FROM aluno\").fetchone()"
   ]
  },
  {
   "cell_type": "markdown",
   "id": "dcc18c1c-05af-4b27-8b45-760f1ab9c50a",
   "metadata": {},
   "source": [
    "7. Carregar os dados da tabela da bd para um novo dataframe (df1), com os registos ordenados por \r\n",
    "ordem alfabética de ‘nome_completo’. "
   ]
  },
  {
   "cell_type": "code",
   "execution_count": 37,
   "id": "8946e5d0-f94e-4081-a1cd-a0addde5f046",
   "metadata": {},
   "outputs": [],
   "source": [
    "# Decompor a lista de tuplos em 4 listas, uma para cada coluna\n",
    "id, primeiro, ultimo, nome = zip(*cur.execute(\"SELECT * FROM aluno\").fetchall())"
   ]
  },
  {
   "cell_type": "code",
   "execution_count": 38,
   "id": "8eb27846-e603-4563-b21c-ee8eef2e2025",
   "metadata": {},
   "outputs": [],
   "source": [
    "# Fechar conexão da base de dados\n",
    "conn.close()"
   ]
  },
  {
   "cell_type": "code",
   "execution_count": 39,
   "id": "8c3e270a-d1b6-48d7-a8e0-0538fde8405f",
   "metadata": {},
   "outputs": [
    {
     "data": {
      "text/html": [
       "<div>\n",
       "<style scoped>\n",
       "    .dataframe tbody tr th:only-of-type {\n",
       "        vertical-align: middle;\n",
       "    }\n",
       "\n",
       "    .dataframe tbody tr th {\n",
       "        vertical-align: top;\n",
       "    }\n",
       "\n",
       "    .dataframe thead th {\n",
       "        text-align: right;\n",
       "    }\n",
       "</style>\n",
       "<table border=\"1\" class=\"dataframe\">\n",
       "  <thead>\n",
       "    <tr style=\"text-align: right;\">\n",
       "      <th></th>\n",
       "      <th>aluno_id</th>\n",
       "      <th>primeiro_nome</th>\n",
       "      <th>ultimo_nome</th>\n",
       "      <th>nome_completo</th>\n",
       "    </tr>\n",
       "  </thead>\n",
       "  <tbody>\n",
       "    <tr>\n",
       "      <th>0</th>\n",
       "      <td>308011</td>\n",
       "      <td>BEATRIZ</td>\n",
       "      <td>COELHO</td>\n",
       "      <td>BEATRIZ ISABEL FERNANDES COELHO</td>\n",
       "    </tr>\n",
       "    <tr>\n",
       "      <th>1</th>\n",
       "      <td>158154</td>\n",
       "      <td>BEATRIZ</td>\n",
       "      <td>RODRIGUES</td>\n",
       "      <td>BEATRIZ MESTRE RODRIGUES</td>\n",
       "    </tr>\n",
       "    <tr>\n",
       "      <th>2</th>\n",
       "      <td>303284</td>\n",
       "      <td>DANIEL</td>\n",
       "      <td>SOUSA</td>\n",
       "      <td>DANIEL FERNANDES DE SOUSA</td>\n",
       "    </tr>\n",
       "    <tr>\n",
       "      <th>3</th>\n",
       "      <td>152335</td>\n",
       "      <td>DAVID</td>\n",
       "      <td>AFONSO</td>\n",
       "      <td>DAVID MIGUEL CARRONDO AFONSO</td>\n",
       "    </tr>\n",
       "    <tr>\n",
       "      <th>4</th>\n",
       "      <td>305412</td>\n",
       "      <td>DIOGO</td>\n",
       "      <td>SANTOS</td>\n",
       "      <td>DIOGO MALTA SANTOS</td>\n",
       "    </tr>\n",
       "    <tr>\n",
       "      <th>...</th>\n",
       "      <td>...</td>\n",
       "      <td>...</td>\n",
       "      <td>...</td>\n",
       "      <td>...</td>\n",
       "    </tr>\n",
       "    <tr>\n",
       "      <th>56</th>\n",
       "      <td>3065613</td>\n",
       "      <td>SIMÃO</td>\n",
       "      <td>MAJOR</td>\n",
       "      <td>SIMÃO PAULO SILVA MAJOR</td>\n",
       "    </tr>\n",
       "    <tr>\n",
       "      <th>57</th>\n",
       "      <td>1495797</td>\n",
       "      <td>TOMÁS</td>\n",
       "      <td>SANTOS</td>\n",
       "      <td>TOMÁS AURÉLIO ABELHO DOS SANTOS</td>\n",
       "    </tr>\n",
       "    <tr>\n",
       "      <th>58</th>\n",
       "      <td>3075837</td>\n",
       "      <td>AFONSO</td>\n",
       "      <td>COSTA</td>\n",
       "      <td>AFONSO NEVES COSTA</td>\n",
       "    </tr>\n",
       "    <tr>\n",
       "      <th>59</th>\n",
       "      <td>1545968</td>\n",
       "      <td>JOÃO</td>\n",
       "      <td>NUNES</td>\n",
       "      <td>JOÃO MIGUEL MARTINS NUNES</td>\n",
       "    </tr>\n",
       "    <tr>\n",
       "      <th>60</th>\n",
       "      <td>3046075</td>\n",
       "      <td>RENATO</td>\n",
       "      <td>GOMES</td>\n",
       "      <td>RENATO JOSÉ DE OLIVEIRA GOMES</td>\n",
       "    </tr>\n",
       "  </tbody>\n",
       "</table>\n",
       "<p>61 rows × 4 columns</p>\n",
       "</div>"
      ],
      "text/plain": [
       "    aluno_id primeiro_nome ultimo_nome                    nome_completo\n",
       "0     308011       BEATRIZ      COELHO  BEATRIZ ISABEL FERNANDES COELHO\n",
       "1     158154       BEATRIZ   RODRIGUES         BEATRIZ MESTRE RODRIGUES\n",
       "2     303284        DANIEL       SOUSA        DANIEL FERNANDES DE SOUSA\n",
       "3     152335         DAVID      AFONSO     DAVID MIGUEL CARRONDO AFONSO\n",
       "4     305412         DIOGO      SANTOS               DIOGO MALTA SANTOS\n",
       "..       ...           ...         ...                              ...\n",
       "56   3065613         SIMÃO       MAJOR          SIMÃO PAULO SILVA MAJOR\n",
       "57   1495797         TOMÁS      SANTOS  TOMÁS AURÉLIO ABELHO DOS SANTOS\n",
       "58   3075837        AFONSO       COSTA               AFONSO NEVES COSTA\n",
       "59   1545968          JOÃO       NUNES        JOÃO MIGUEL MARTINS NUNES\n",
       "60   3046075        RENATO       GOMES    RENATO JOSÉ DE OLIVEIRA GOMES\n",
       "\n",
       "[61 rows x 4 columns]"
      ]
     },
     "execution_count": 39,
     "metadata": {},
     "output_type": "execute_result"
    }
   ],
   "source": [
    "df1 = pd.DataFrame({\n",
    "    \"aluno_id\": id,\n",
    "    \"primeiro_nome\": primeiro,\n",
    "    \"ultimo_nome\": ultimo,\n",
    "    \"nome_completo\": nome\n",
    "})\n",
    "df1"
   ]
  }
 ],
 "metadata": {
  "kernelspec": {
   "display_name": "Python 3 (ipykernel)",
   "language": "python",
   "name": "python3"
  },
  "language_info": {
   "codemirror_mode": {
    "name": "ipython",
    "version": 3
   },
   "file_extension": ".py",
   "mimetype": "text/x-python",
   "name": "python",
   "nbconvert_exporter": "python",
   "pygments_lexer": "ipython3",
   "version": "3.11.6"
  }
 },
 "nbformat": 4,
 "nbformat_minor": 5
}
