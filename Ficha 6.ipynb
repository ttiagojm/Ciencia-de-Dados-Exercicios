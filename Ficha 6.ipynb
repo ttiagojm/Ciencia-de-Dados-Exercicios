{
 "cells": [
  {
   "cell_type": "code",
   "execution_count": 53,
   "id": "b85edf54-9d1f-4294-aaec-0451d697e250",
   "metadata": {},
   "outputs": [],
   "source": [
    "import pandas as pd\n",
    "import matplotlib.pyplot as plt\n",
    "import seaborn as sns\n",
    "import numpy as np\n",
    "from sklearn.cluster import KMeans, DBSCAN, AgglomerativeClustering\n",
    "from sklearn.metrics import silhouette_score\n",
    "from scipy.cluster.hierarchy import dendrogram"
   ]
  },
  {
   "cell_type": "code",
   "execution_count": 54,
   "id": "33c47aab-bbd2-414f-940a-44cd67d82fa8",
   "metadata": {},
   "outputs": [],
   "source": [
    "df = pd.read_csv(\"RedeSocial.csv\")"
   ]
  },
  {
   "cell_type": "code",
   "execution_count": 55,
   "id": "df6280d0-1efc-4874-a0be-c830ae16aed0",
   "metadata": {},
   "outputs": [
    {
     "data": {
      "text/html": [
       "<div>\n",
       "<style scoped>\n",
       "    .dataframe tbody tr th:only-of-type {\n",
       "        vertical-align: middle;\n",
       "    }\n",
       "\n",
       "    .dataframe tbody tr th {\n",
       "        vertical-align: top;\n",
       "    }\n",
       "\n",
       "    .dataframe thead th {\n",
       "        text-align: right;\n",
       "    }\n",
       "</style>\n",
       "<table border=\"1\" class=\"dataframe\">\n",
       "  <thead>\n",
       "    <tr style=\"text-align: right;\">\n",
       "      <th></th>\n",
       "      <th>Nome</th>\n",
       "      <th>Idade</th>\n",
       "      <th>Educacao</th>\n",
       "      <th>Perfil</th>\n",
       "    </tr>\n",
       "  </thead>\n",
       "  <tbody>\n",
       "    <tr>\n",
       "      <th>0</th>\n",
       "      <td>Paulo</td>\n",
       "      <td>48</td>\n",
       "      <td>1.0</td>\n",
       "      <td>Mau</td>\n",
       "    </tr>\n",
       "    <tr>\n",
       "      <th>1</th>\n",
       "      <td>Mónica</td>\n",
       "      <td>43</td>\n",
       "      <td>2.0</td>\n",
       "      <td>Bom</td>\n",
       "    </tr>\n",
       "    <tr>\n",
       "      <th>2</th>\n",
       "      <td>Helena</td>\n",
       "      <td>82</td>\n",
       "      <td>3.0</td>\n",
       "      <td>Mau</td>\n",
       "    </tr>\n",
       "    <tr>\n",
       "      <th>3</th>\n",
       "      <td>Eva</td>\n",
       "      <td>23</td>\n",
       "      <td>3.0</td>\n",
       "      <td>Mau</td>\n",
       "    </tr>\n",
       "    <tr>\n",
       "      <th>4</th>\n",
       "      <td>Filipe</td>\n",
       "      <td>46</td>\n",
       "      <td>5.0</td>\n",
       "      <td>Bom</td>\n",
       "    </tr>\n",
       "    <tr>\n",
       "      <th>5</th>\n",
       "      <td>Irene</td>\n",
       "      <td>29</td>\n",
       "      <td>4.5</td>\n",
       "      <td>Mau</td>\n",
       "    </tr>\n",
       "    <tr>\n",
       "      <th>6</th>\n",
       "      <td>José</td>\n",
       "      <td>42</td>\n",
       "      <td>4.1</td>\n",
       "      <td>Bom</td>\n",
       "    </tr>\n",
       "    <tr>\n",
       "      <th>7</th>\n",
       "      <td>Sofia</td>\n",
       "      <td>38</td>\n",
       "      <td>5.0</td>\n",
       "      <td>Mau</td>\n",
       "    </tr>\n",
       "    <tr>\n",
       "      <th>8</th>\n",
       "      <td>Maria</td>\n",
       "      <td>31</td>\n",
       "      <td>3.0</td>\n",
       "      <td>Bom</td>\n",
       "    </tr>\n",
       "    <tr>\n",
       "      <th>9</th>\n",
       "      <td>Pedro</td>\n",
       "      <td>41</td>\n",
       "      <td>1.0</td>\n",
       "      <td>Bom</td>\n",
       "    </tr>\n",
       "    <tr>\n",
       "      <th>10</th>\n",
       "      <td>Mariana</td>\n",
       "      <td>43</td>\n",
       "      <td>2.0</td>\n",
       "      <td>Bom</td>\n",
       "    </tr>\n",
       "    <tr>\n",
       "      <th>11</th>\n",
       "      <td>Luís</td>\n",
       "      <td>82</td>\n",
       "      <td>3.0</td>\n",
       "      <td>Bom</td>\n",
       "    </tr>\n",
       "    <tr>\n",
       "      <th>12</th>\n",
       "      <td>João</td>\n",
       "      <td>23</td>\n",
       "      <td>3.5</td>\n",
       "      <td>Mau</td>\n",
       "    </tr>\n",
       "    <tr>\n",
       "      <th>13</th>\n",
       "      <td>Hugo</td>\n",
       "      <td>46</td>\n",
       "      <td>5.0</td>\n",
       "      <td>Bom</td>\n",
       "    </tr>\n",
       "    <tr>\n",
       "      <th>14</th>\n",
       "      <td>Joaquim</td>\n",
       "      <td>17</td>\n",
       "      <td>4.0</td>\n",
       "      <td>Mau</td>\n",
       "    </tr>\n",
       "    <tr>\n",
       "      <th>15</th>\n",
       "      <td>Osvaldo</td>\n",
       "      <td>42</td>\n",
       "      <td>4.0</td>\n",
       "      <td>Bom</td>\n",
       "    </tr>\n",
       "    <tr>\n",
       "      <th>16</th>\n",
       "      <td>Elisa</td>\n",
       "      <td>38</td>\n",
       "      <td>4.0</td>\n",
       "      <td>Mau</td>\n",
       "    </tr>\n",
       "    <tr>\n",
       "      <th>17</th>\n",
       "      <td>Soraia</td>\n",
       "      <td>31</td>\n",
       "      <td>2.0</td>\n",
       "      <td>Bom</td>\n",
       "    </tr>\n",
       "    <tr>\n",
       "      <th>18</th>\n",
       "      <td>Tânia</td>\n",
       "      <td>46</td>\n",
       "      <td>5.0</td>\n",
       "      <td>Bom</td>\n",
       "    </tr>\n",
       "    <tr>\n",
       "      <th>19</th>\n",
       "      <td>Carla</td>\n",
       "      <td>29</td>\n",
       "      <td>4.0</td>\n",
       "      <td>Mau</td>\n",
       "    </tr>\n",
       "  </tbody>\n",
       "</table>\n",
       "</div>"
      ],
      "text/plain": [
       "       Nome  Idade  Educacao Perfil\n",
       "0     Paulo     48       1.0    Mau\n",
       "1    Mónica     43       2.0    Bom\n",
       "2    Helena     82       3.0    Mau\n",
       "3       Eva     23       3.0    Mau\n",
       "4    Filipe     46       5.0    Bom\n",
       "5     Irene     29       4.5    Mau\n",
       "6      José     42       4.1    Bom\n",
       "7     Sofia     38       5.0    Mau\n",
       "8     Maria     31       3.0    Bom\n",
       "9     Pedro     41       1.0    Bom\n",
       "10  Mariana     43       2.0    Bom\n",
       "11     Luís     82       3.0    Bom\n",
       "12     João     23       3.5    Mau\n",
       "13     Hugo     46       5.0    Bom\n",
       "14  Joaquim     17       4.0    Mau\n",
       "15  Osvaldo     42       4.0    Bom\n",
       "16    Elisa     38       4.0    Mau\n",
       "17   Soraia     31       2.0    Bom\n",
       "18    Tânia     46       5.0    Bom\n",
       "19    Carla     29       4.0    Mau"
      ]
     },
     "execution_count": 55,
     "metadata": {},
     "output_type": "execute_result"
    }
   ],
   "source": [
    "df"
   ]
  },
  {
   "cell_type": "code",
   "execution_count": 56,
   "id": "e67f7883-3d37-409f-a471-8e474b1bc36f",
   "metadata": {},
   "outputs": [
    {
     "data": {
      "text/html": [
       "<div>\n",
       "<style scoped>\n",
       "    .dataframe tbody tr th:only-of-type {\n",
       "        vertical-align: middle;\n",
       "    }\n",
       "\n",
       "    .dataframe tbody tr th {\n",
       "        vertical-align: top;\n",
       "    }\n",
       "\n",
       "    .dataframe thead th {\n",
       "        text-align: right;\n",
       "    }\n",
       "</style>\n",
       "<table border=\"1\" class=\"dataframe\">\n",
       "  <thead>\n",
       "    <tr style=\"text-align: right;\">\n",
       "      <th></th>\n",
       "      <th>Nome</th>\n",
       "      <th>Idade</th>\n",
       "      <th>Educacao</th>\n",
       "      <th>Perfil</th>\n",
       "    </tr>\n",
       "  </thead>\n",
       "  <tbody>\n",
       "    <tr>\n",
       "      <th>0</th>\n",
       "      <td>Paulo</td>\n",
       "      <td>0.422075</td>\n",
       "      <td>-1.869921</td>\n",
       "      <td>0</td>\n",
       "    </tr>\n",
       "    <tr>\n",
       "      <th>1</th>\n",
       "      <td>Mónica</td>\n",
       "      <td>0.120593</td>\n",
       "      <td>-1.092407</td>\n",
       "      <td>1</td>\n",
       "    </tr>\n",
       "    <tr>\n",
       "      <th>2</th>\n",
       "      <td>Helena</td>\n",
       "      <td>2.472156</td>\n",
       "      <td>-0.314893</td>\n",
       "      <td>0</td>\n",
       "    </tr>\n",
       "    <tr>\n",
       "      <th>3</th>\n",
       "      <td>Eva</td>\n",
       "      <td>-1.085337</td>\n",
       "      <td>-0.314893</td>\n",
       "      <td>0</td>\n",
       "    </tr>\n",
       "    <tr>\n",
       "      <th>4</th>\n",
       "      <td>Filipe</td>\n",
       "      <td>0.301482</td>\n",
       "      <td>1.240134</td>\n",
       "      <td>1</td>\n",
       "    </tr>\n",
       "    <tr>\n",
       "      <th>5</th>\n",
       "      <td>Irene</td>\n",
       "      <td>-0.723558</td>\n",
       "      <td>0.851378</td>\n",
       "      <td>0</td>\n",
       "    </tr>\n",
       "    <tr>\n",
       "      <th>6</th>\n",
       "      <td>José</td>\n",
       "      <td>0.060296</td>\n",
       "      <td>0.540372</td>\n",
       "      <td>1</td>\n",
       "    </tr>\n",
       "    <tr>\n",
       "      <th>7</th>\n",
       "      <td>Sofia</td>\n",
       "      <td>-0.180889</td>\n",
       "      <td>1.240134</td>\n",
       "      <td>0</td>\n",
       "    </tr>\n",
       "    <tr>\n",
       "      <th>8</th>\n",
       "      <td>Maria</td>\n",
       "      <td>-0.602965</td>\n",
       "      <td>-0.314893</td>\n",
       "      <td>1</td>\n",
       "    </tr>\n",
       "    <tr>\n",
       "      <th>9</th>\n",
       "      <td>Pedro</td>\n",
       "      <td>0.000000</td>\n",
       "      <td>-1.869921</td>\n",
       "      <td>1</td>\n",
       "    </tr>\n",
       "    <tr>\n",
       "      <th>10</th>\n",
       "      <td>Mariana</td>\n",
       "      <td>0.120593</td>\n",
       "      <td>-1.092407</td>\n",
       "      <td>1</td>\n",
       "    </tr>\n",
       "    <tr>\n",
       "      <th>11</th>\n",
       "      <td>Luís</td>\n",
       "      <td>2.472156</td>\n",
       "      <td>-0.314893</td>\n",
       "      <td>1</td>\n",
       "    </tr>\n",
       "    <tr>\n",
       "      <th>12</th>\n",
       "      <td>João</td>\n",
       "      <td>-1.085337</td>\n",
       "      <td>0.073864</td>\n",
       "      <td>0</td>\n",
       "    </tr>\n",
       "    <tr>\n",
       "      <th>13</th>\n",
       "      <td>Hugo</td>\n",
       "      <td>0.301482</td>\n",
       "      <td>1.240134</td>\n",
       "      <td>1</td>\n",
       "    </tr>\n",
       "    <tr>\n",
       "      <th>14</th>\n",
       "      <td>Joaquim</td>\n",
       "      <td>-1.447116</td>\n",
       "      <td>0.462621</td>\n",
       "      <td>0</td>\n",
       "    </tr>\n",
       "    <tr>\n",
       "      <th>15</th>\n",
       "      <td>Osvaldo</td>\n",
       "      <td>0.060296</td>\n",
       "      <td>0.462621</td>\n",
       "      <td>1</td>\n",
       "    </tr>\n",
       "    <tr>\n",
       "      <th>16</th>\n",
       "      <td>Elisa</td>\n",
       "      <td>-0.180889</td>\n",
       "      <td>0.462621</td>\n",
       "      <td>0</td>\n",
       "    </tr>\n",
       "    <tr>\n",
       "      <th>17</th>\n",
       "      <td>Soraia</td>\n",
       "      <td>-0.602965</td>\n",
       "      <td>-1.092407</td>\n",
       "      <td>1</td>\n",
       "    </tr>\n",
       "    <tr>\n",
       "      <th>18</th>\n",
       "      <td>Tânia</td>\n",
       "      <td>0.301482</td>\n",
       "      <td>1.240134</td>\n",
       "      <td>1</td>\n",
       "    </tr>\n",
       "    <tr>\n",
       "      <th>19</th>\n",
       "      <td>Carla</td>\n",
       "      <td>-0.723558</td>\n",
       "      <td>0.462621</td>\n",
       "      <td>0</td>\n",
       "    </tr>\n",
       "  </tbody>\n",
       "</table>\n",
       "</div>"
      ],
      "text/plain": [
       "       Nome     Idade  Educacao  Perfil\n",
       "0     Paulo  0.422075 -1.869921       0\n",
       "1    Mónica  0.120593 -1.092407       1\n",
       "2    Helena  2.472156 -0.314893       0\n",
       "3       Eva -1.085337 -0.314893       0\n",
       "4    Filipe  0.301482  1.240134       1\n",
       "5     Irene -0.723558  0.851378       0\n",
       "6      José  0.060296  0.540372       1\n",
       "7     Sofia -0.180889  1.240134       0\n",
       "8     Maria -0.602965 -0.314893       1\n",
       "9     Pedro  0.000000 -1.869921       1\n",
       "10  Mariana  0.120593 -1.092407       1\n",
       "11     Luís  2.472156 -0.314893       1\n",
       "12     João -1.085337  0.073864       0\n",
       "13     Hugo  0.301482  1.240134       1\n",
       "14  Joaquim -1.447116  0.462621       0\n",
       "15  Osvaldo  0.060296  0.462621       1\n",
       "16    Elisa -0.180889  0.462621       0\n",
       "17   Soraia -0.602965 -1.092407       1\n",
       "18    Tânia  0.301482  1.240134       1\n",
       "19    Carla -0.723558  0.462621       0"
      ]
     },
     "execution_count": 56,
     "metadata": {},
     "output_type": "execute_result"
    }
   ],
   "source": [
    "data = df.copy()\n",
    "# Converter para valor binário\n",
    "data[\"Perfil\"].replace([\"Bom\", \"Mau\"], [1, 0], inplace=True)\n",
    "\n",
    "# Standardizar\n",
    "data[\"Idade\"] = (data[\"Idade\"] - data[\"Idade\"].mean()) / data[\"Idade\"].std()\n",
    "data[\"Educacao\"] = (data[\"Educacao\"] - data[\"Educacao\"].mean()) / data[\"Educacao\"].std()\n",
    "data"
   ]
  },
  {
   "cell_type": "markdown",
   "id": "22896097-63b0-4ca2-90a0-ccfc8159920b",
   "metadata": {},
   "source": [
    "1. Usando o conjunto de dados da rede social, execute o algoritmo k-means para diferentes valores \r\n",
    "de k e identifique o melhor valor para a quantidade de clusters a utilizar. O que conclui quanto à \r\n",
    "classificação de perfil utilizada no dataset original? "
   ]
  },
  {
   "cell_type": "code",
   "execution_count": 57,
   "id": "6854840f-c166-4bc8-9d4c-fa7d5a46bbbe",
   "metadata": {},
   "outputs": [
    {
     "data": {
      "text/plain": [
       "<matplotlib.legend.Legend at 0x17849708cd0>"
      ]
     },
     "execution_count": 57,
     "metadata": {},
     "output_type": "execute_result"
    },
    {
     "data": {
      "image/png": "[encoded data removed]",
      "text/plain": [
       "<Figure size 640x480 with 2 Axes>"
      ]
     },
     "metadata": {},
     "output_type": "display_data"
    }
   ],
   "source": [
    "k = range(2,10)\n",
    "data.drop([\"Nome\"], inplace=True, axis=1)\n",
    "\n",
    "inertia = dict()\n",
    "silhueta = dict()\n",
    "\n",
    "f, (ax1, ax2) = plt.subplots(1, 2)\n",
    "\n",
    "for i in k:\n",
    "    kmean = KMeans(n_clusters=i, n_init=\"auto\")\n",
    "    kmean.fit(data)\n",
    "    inertia[i] = kmean.inertia_\n",
    "    silhueta[i] = silhouette_score(data, kmean.labels_)\n",
    "\n",
    "ax1.plot(inertia.keys(), inertia.values(), label=\"Inércia\", color = 'r')\n",
    "ax2.plot(silhueta.keys(), silhueta.values(), label = \"Silhueta\")\n",
    "f.legend()"
   ]
  },
  {
   "cell_type": "markdown",
   "id": "179345b1-87fc-48c2-acca-3407ce837440",
   "metadata": {},
   "source": [
    "O K-Means vai criar clusters inicialmente, depois irá calcular os centróides para cada cluster e reavaliar o cluster a que pertence cada registo e depois irá novamente recalcular os centróides e assim sucessivamente até mais nenhum registo trocar de cluster.\n",
    "\n",
    "A silhueta compara densidade e separação dos registos dos clusters, tendo valores entre [-1, 1], quanto mais próximo de 1 tem-se o valor ideal de densidade e separação.\n",
    "\n",
    "O método do cotovelo que usa a inércia, usa apenas a densidade dos registos dos clusters (o quão próximos estão os registos de cada cluster), o ponto de \"viragem\" da curva dá o melhor número de clusters.\n",
    "\n",
    "Sendo assim 4 é o número ideal de clusters."
   ]
  },
  {
   "cell_type": "code",
   "execution_count": 58,
   "id": "d674bff9-741a-4cc3-8b58-baa2df356adc",
   "metadata": {},
   "outputs": [
    {
     "name": "stdout",
     "output_type": "stream",
     "text": [
      "Silhueta:  0.41947554720882374\n"
     ]
    }
   ],
   "source": [
    "kmean = KMeans(n_clusters=2, n_init=\"auto\")\n",
    "classifier = kmean.fit(data)\n",
    "labels_kmeans = classifier.fit_predict(data)\n",
    "\n",
    "print(\"Silhueta: \", silhouette_score(data, labels_kmeans))"
   ]
  },
  {
   "cell_type": "code",
   "execution_count": 59,
   "id": "021da1a3-74cf-4ef5-becc-771192cdc470",
   "metadata": {},
   "outputs": [
    {
     "data": {
      "image/png": "[encoded data removed]",
      "text/plain": [
       "<Figure size 640x480 with 1 Axes>"
      ]
     },
     "metadata": {},
     "output_type": "display_data"
    }
   ],
   "source": [
    "p = sns.scatterplot(data = data, x = 'Idade', y = 'Educacao', hue = labels_kmeans, legend = \"full\", palette = \"deep\")\n",
    "p.set(title='K-Means')\n",
    "sns.move_legend(p, \"upper right\", bbox_to_anchor = (1.17, 1.), title = 'Clusters')"
   ]
  },
  {
   "cell_type": "markdown",
   "id": "b188242b-2ad9-42f1-af08-fa5a6defd066",
   "metadata": {},
   "source": [
    "2. Usando o conjunto de dados da rede social, execute o algoritmo DBSCAN e teste valores \n",
    "diferentes para os dois hiperparâmetros principais. Indique o número de clusters e pontos de ruído \n",
    "resultantes. "
   ]
  },
  {
   "cell_type": "code",
   "execution_count": 60,
   "id": "4d0c6470-6e48-456e-9eb9-d0cff9dfe690",
   "metadata": {},
   "outputs": [
    {
     "data": {
      "text/plain": [
       "[<matplotlib.lines.Line2D at 0x17849d50750>]"
      ]
     },
     "execution_count": 60,
     "metadata": {},
     "output_type": "execute_result"
    },
    {
     "data": {
      "image/png": "[encoded data removed]",
      "text/plain": [
       "<Figure size 640x480 with 1 Axes>"
      ]
     },
     "metadata": {},
     "output_type": "display_data"
    }
   ],
   "source": [
    "silhueta = dict()\n",
    "\n",
    "\n",
    "for i in [0.001, 0.01, 0.1, 0.2, 0.5, 1.0, 2.0]:\n",
    "    dbscan = DBSCAN(min_samples=2, eps=i)\n",
    "    dbscan.fit(data)\n",
    "    labels_dbscan = dbscan.fit_predict(data)\n",
    "\n",
    "    silhueta[i] = silhouette_score(data, labels_dbscan)\n",
    "\n",
    "plt.plot(silhueta.keys(), silhueta.values(), label = \"Silhueta\")"
   ]
  },
  {
   "cell_type": "markdown",
   "id": "810ee4d7-d21a-43aa-8d4b-76067b96cc3f",
   "metadata": {},
   "source": [
    "O DBSCAN faz uso da densidade, ou seja, ele quer agrupar um certo número de vizinhos que tenham uma certas distância máxima, para garantir clusters com uma boa densidade. Para isso temos de passar o máxima de registos para uma vizinhança e a distância mínima para ser considerado da vizinhança `eps`.\n",
    "\n",
    "Através da silhueta pode-se observar que a distância de 1.0 para vizinhanças de no mínimo 2 registos, é o que aumenta mais a silhueta. Logo poderá ser um bom valor para o `eps` do DBSCAN.\n",
    "\n",
    "O cluster -1 é o cluster de registos que não ficaram em nenhuma vizinhança."
   ]
  },
  {
   "cell_type": "code",
   "execution_count": 76,
   "id": "d7a3ba46-1e36-4a33-a2c2-1be6d778f7a6",
   "metadata": {},
   "outputs": [
    {
     "name": "stdout",
     "output_type": "stream",
     "text": [
      "N clusters:  4\n",
      "Pontos de ruído:  1\n"
     ]
    }
   ],
   "source": [
    "dbscan = DBSCAN(min_samples=2, eps=1.0)\n",
    "dbscan.fit(data)\n",
    "labels_dbscan = dbscan.fit_predict(data)\n",
    "print(\"N clusters: \", len(np.unique(dbscan.labels_)) - 1)\n",
    "print(\"Pontos de ruído: \", np.count_nonzero(dbscan.labels_ == -1))"
   ]
  },
  {
   "cell_type": "code",
   "execution_count": 62,
   "id": "d84cea3b-3bad-4284-b0fc-951a079e1594",
   "metadata": {},
   "outputs": [
    {
     "data": {
      "image/png": "[encoded data removed]",
      "text/plain": [
       "<Figure size 640x480 with 1 Axes>"
      ]
     },
     "metadata": {},
     "output_type": "display_data"
    }
   ],
   "source": [
    "p = sns.scatterplot(data = data, x = 'Idade', y = 'Educacao', hue = labels_dbscan, legend = \"full\", palette = \"deep\")\n",
    "sns.move_legend(p, \"upper right\", bbox_to_anchor = (1.17, 1.), title = 'Clusters')"
   ]
  },
  {
   "cell_type": "markdown",
   "id": "fdec7ab0-d325-461d-882b-fe3d944d8a0d",
   "metadata": {},
   "source": [
    "3. Usando o conjunto de dados da rede social, execute o algoritmo hierárquico aglomerativo e \n",
    "plote o dendrograma gerado. Utilize 'linkage' para definir o cálculo de distância como 'ward', e \n",
    "'dendrogram' para fazer o gráfico. Ambos pertencem ao modulo scipy.cluster.hierarchy (from \n",
    "scipy.cluster.hierarchy import dendrogram, linkage). "
   ]
  },
  {
   "cell_type": "code",
   "execution_count": 72,
   "id": "205bf674-f29d-482b-81fd-e24da88591c3",
   "metadata": {},
   "outputs": [],
   "source": [
    "aglomerative = AgglomerativeClustering(distance_threshold=0, n_clusters=None, linkage=\"ward\")\n",
    "model = aglomerative.fit(data)"
   ]
  },
  {
   "cell_type": "code",
   "execution_count": 73,
   "id": "b57d9631-30b0-4c4e-a619-635115e2d92c",
   "metadata": {},
   "outputs": [],
   "source": [
    "def plot_dendrogram(model, **kwargs):\n",
    "    # Create linkage matrix and then plot the dendrogram\n",
    "\n",
    "    # create the counts of samples under each node\n",
    "    counts = np.zeros(model.children_.shape[0])\n",
    "    n_samples = len(model.labels_)\n",
    "    for i, merge in enumerate(model.children_):\n",
    "        current_count = 0\n",
    "        for child_idx in merge:\n",
    "            if child_idx < n_samples:\n",
    "                current_count += 1  # leaf node\n",
    "            else:\n",
    "                current_count += counts[child_idx - n_samples]\n",
    "        counts[i] = current_count\n",
    "\n",
    "    linkage_matrix = np.column_stack(\n",
    "        [model.children_, model.distances_, counts]\n",
    "    ).astype(float)\n",
    "\n",
    "    # Plot the corresponding dendrogram\n",
    "    dendrogram(linkage_matrix, **kwargs)"
   ]
  },
  {
   "cell_type": "code",
   "execution_count": 74,
   "id": "b2a4d9df-39cb-467c-bba5-bc56f218447a",
   "metadata": {},
   "outputs": [
    {
     "data": {
      "image/png": "[encoded data removed]",
      "text/plain": [
       "<Figure size 640x480 with 1 Axes>"
      ]
     },
     "metadata": {},
     "output_type": "display_data"
    }
   ],
   "source": [
    "plot_dendrogram(model)"
   ]
  },
  {
   "cell_type": "markdown",
   "id": "00b104d6-be78-43ca-a1c8-2ba4b83c4526",
   "metadata": {},
   "source": [
    "A hierarquia aglomerativa, inicialmente ele vai calcular a distância entre registos e vai criar um cluster com os 2 registos com distância mínima. \n",
    "\n",
    "A \"distância\" não tem de ser euclideana, podem ser usados outros métodos. Neste caso, o `ward` irá calcular a variância entre clusters e criar clusters cuja variância é mínima.\n",
    "\n",
    "Pode verificar-se que foram selecionados 4 clusters, tendo o mesmo resultado que o K-Means e o DBSCAN."
   ]
  },
  {
   "cell_type": "code",
   "execution_count": null,
   "id": "5dc0230c-e535-4311-acdc-71ab90d48a8c",
   "metadata": {},
   "outputs": [],
   "source": []
  }
 ],
 "metadata": {
  "kernelspec": {
   "display_name": "Python 3 (ipykernel)",
   "language": "python",
   "name": "python3"
  },
  "language_info": {
   "codemirror_mode": {
    "name": "ipython",
    "version": 3
   },
   "file_extension": ".py",
   "mimetype": "text/x-python",
   "name": "python",
   "nbconvert_exporter": "python",
   "pygments_lexer": "ipython3",
   "version": "3.11.6"
  }
 },
 "nbformat": 4,
 "nbformat_minor": 5
}
