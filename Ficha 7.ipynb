{
 "cells": [
  {
   "cell_type": "code",
   "execution_count": null,
   "id": "2223e216-4325-4e19-80f7-f66a6da73562",
   "metadata": {},
   "outputs": [],
   "source": [
    "from mlxtend.preprocessing import TransactionEncoder\n",
    "from mlxtend.frequent_patterns import fpgrowth\n",
    "import pandas as pd\n",
    "import numpy as np\n",
    "import re"
   ]
  },
  {
   "cell_type": "markdown",
   "id": "f1bc7b97-a797-4d90-bfee-b2201290cecb",
   "metadata": {},
   "source": [
    "1. Use a livraria ‘mlxtend’ para extrair os padrões frequentes do dataset, aplicando o algoritmo FP\u0002Growth. Considere um suporte mínimo de 60%. "
   ]
  },
  {
   "cell_type": "code",
   "execution_count": null,
   "id": "f6a7ad52-0e6a-4fd2-8c5b-57de8a3b3651",
   "metadata": {},
   "outputs": [],
   "source": [
    "dataset = [['Leite', 'Cerveja', 'Pão'], \n",
    " ['Leite', 'Cerveja', 'Frutas'], \n",
    " ['Leite', 'Cerveja'], \n",
    " ['Leite', 'Pão']]"
   ]
  },
  {
   "cell_type": "code",
   "execution_count": null,
   "id": "dce133a8-8ce3-4661-a7c0-e6f545c8463c",
   "metadata": {},
   "outputs": [],
   "source": [
    "te = TransactionEncoder()\n",
    "\n",
    "df = pd.DataFrame(te.fit(dataset).transform(dataset), columns=te.columns_)\n",
    "df"
   ]
  },
  {
   "cell_type": "code",
   "execution_count": null,
   "id": "4b314bb3-8c40-4044-8944-65803cd8c69d",
   "metadata": {},
   "outputs": [],
   "source": [
    "fpgrowth(df, min_support=0.6)"
   ]
  },
  {
   "cell_type": "markdown",
   "id": "d17e4f7a-b41d-43fe-9857-e289138f462b",
   "metadata": {},
   "source": [
    "2. Analise o dataset ‘ComprasOnline.xlsx’. \r\n",
    "a) Detete problemas nos dados, como por exemplo existência de NAs e faça um pré \r\n",
    "processamento de limpeza nos mesmos."
   ]
  },
  {
   "cell_type": "code",
   "execution_count": null,
   "id": "a9db31c9-f542-456b-9509-7f5df8f163b9",
   "metadata": {},
   "outputs": [],
   "source": [
    "df = pd.read_excel(\"ComprasOnline.xlsx\")\n",
    "df"
   ]
  },
  {
   "cell_type": "code",
   "execution_count": null,
   "id": "083c5a75-86ee-45fa-be26-f579347c7197",
   "metadata": {},
   "outputs": [],
   "source": [
    "df.info()"
   ]
  },
  {
   "cell_type": "code",
   "execution_count": null,
   "id": "63115b9a-aa2b-4cf8-9a76-f74a2b2c4788",
   "metadata": {},
   "outputs": [],
   "source": [
    "# Remover faturas (invoice) com letras A e C\n",
    "df_no_alpha_invoice = df[df[\"InvoiceNo\"].apply(lambda x: str(x).isnumeric())]\n",
    "df_no_alpha_invoice.info()"
   ]
  },
  {
   "cell_type": "code",
   "execution_count": null,
   "id": "2b51fa0c-0284-4440-8806-2faa1a1e0ab2",
   "metadata": {},
   "outputs": [],
   "source": [
    "# Converter stockcode para string e depois remover todas as letras\n",
    "df_stockcode = df_no_alpha_invoice.copy()\n",
    "df_stockcode[\"StockCode\"] = df_stockcode[\"StockCode\"].apply(lambda x: re.sub(r\"[a-zA-Z_]+\", \"\", str(x)))\n",
    "\n",
    "# Remover linhas com stockcode em branco\n",
    "df_stockcode = df_stockcode[df_stockcode[\"StockCode\"].apply(lambda x: re.match(r\"\\s*$\", str(x)) == None)]"
   ]
  },
  {
   "cell_type": "code",
   "execution_count": null,
   "id": "60e9785c-7d35-43da-a6bb-c02d3666660a",
   "metadata": {},
   "outputs": [],
   "source": [
    "# Fazer a pivot table\n",
    "df_france = df_stockcode[df_stockcode[\"Country\"] == \"France\"]\n",
    "df_france_reduced = pd.pivot_table(df_stockcode, values = \"Quantity\", index = [\"InvoiceNo\", \"StockCode\"], aggfunc = \"sum\")"
   ]
  },
  {
   "cell_type": "code",
   "execution_count": null,
   "id": "1e79bd82-7d76-46a3-a231-4eda050366a2",
   "metadata": {},
   "outputs": [],
   "source": [
    "# Converter quantidades positivas para 1 e negativas para 0\n",
    "df_france_reduced[\"Quantity\"] = df_france_reduced[\"Quantity\"].apply(lambda x: 1 if x >= 1 else 0)\n",
    "\n",
    "# Voltar a colocar o dataframe normal\n",
    "df_final = df_france_reduced.copy()\n",
    "df_final.reset_index(inplace=True, level = ['InvoiceNo', 'StockCode'])\n",
    "df_final.info()"
   ]
  },
  {
   "cell_type": "markdown",
   "id": "918312d9-46e5-4271-9628-22e22054dd90",
   "metadata": {},
   "source": [
    "Agora é necessário converter para True/False para a biblioteca conseguir execuar o FP-Growth"
   ]
  },
  {
   "cell_type": "code",
   "execution_count": null,
   "id": "caa926c1-f1fc-4118-b690-44852a2e2982",
   "metadata": {},
   "outputs": [],
   "source": [
    "dataset = df_final.values.astype(int).tolist()"
   ]
  },
  {
   "cell_type": "code",
   "execution_count": null,
   "id": "89f66f38-21f6-4614-87c7-d27b4996d6d6",
   "metadata": {},
   "outputs": [],
   "source": [
    "te = TransactionEncoder()\n",
    "\n",
    "itemsets = pd.DataFrame(te.fit(dataset).transform(dataset), columns=te.columns_)\n",
    "itemsets"
   ]
  },
  {
   "cell_type": "code",
   "execution_count": null,
   "id": "f438c7d0-ca98-4813-a696-02490877580a",
   "metadata": {},
   "outputs": [],
   "source": [
    "# obtém os itens frequentes\n",
    "frequent_itemsets = fpgrowth(itemsets, min_support=0.07, use_colnames=True)"
   ]
  },
  {
   "cell_type": "code",
   "execution_count": null,
   "id": "3a882c17-448d-483e-adef-1583914c6c73",
   "metadata": {},
   "outputs": [],
   "source": [
    "# Obtém as associações dos itens frequentes usando lift\n",
    "association_rules(frequent_itemsets, metric=\"lift\", min_threshold=6)"
   ]
  },
  {
   "cell_type": "code",
   "execution_count": null,
   "id": "991cb1c1-50ce-4f38-974a-4eefb8841f4e",
   "metadata": {},
   "outputs": [],
   "source": [
    "# Obtém as associações dos itens frequentes usando a confiança\n",
    "association_rules(frequent_itemsets, metric=\"confidence\", min_threshold=0.8)"
   ]
  }
 ],
 "metadata": {
  "kernelspec": {
   "display_name": "Python 3 (ipykernel)",
   "language": "python",
   "name": "python3"
  },
  "language_info": {
   "codemirror_mode": {
    "name": "ipython",
    "version": 3
   },
   "file_extension": ".py",
   "mimetype": "text/x-python",
   "name": "python",
   "nbconvert_exporter": "python",
   "pygments_lexer": "ipython3",
   "version": "3.11.6"
  }
 },
 "nbformat": 4,
 "nbformat_minor": 5
}
